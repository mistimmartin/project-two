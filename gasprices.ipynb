{
 "cells": [
  {
   "cell_type": "code",
   "execution_count": 3,
   "metadata": {},
   "outputs": [],
   "source": [
    "from splinter import Browser\n",
    "from bs4 import BeautifulSoup\n",
    "from selenium import webdriver\n",
    "import pandas as pd"
   ]
  },
  {
   "cell_type": "code",
   "execution_count": 4,
   "metadata": {},
   "outputs": [],
   "source": [
    "executable_path = {'executable_path': 'chromedriver.exe'}\n",
    "browser = Browser('chrome', **executable_path)"
   ]
  },
  {
   "cell_type": "code",
   "execution_count": 5,
   "metadata": {},
   "outputs": [],
   "source": [
    "url = 'https://www.eia.gov/dnav/pet/hist/LeafHandler.ashx?n=PET&s=EMM_EPM0_PTE_NUS_DPG&f=M'\n",
    "browser.visit(url)"
   ]
  },
  {
   "cell_type": "code",
   "execution_count": 6,
   "metadata": {},
   "outputs": [],
   "source": [
    "html = browser.html\n",
    "soup = BeautifulSoup(html, 'lxml')"
   ]
  },
  {
   "cell_type": "code",
   "execution_count": 7,
   "metadata": {},
   "outputs": [
    {
     "name": "stdout",
     "output_type": "stream",
     "text": [
      "    Year January February  March  April    May   June   July August September  \\\n",
      "0   1993   1.078    1.100  1.097  1.078  1.062  1.050  1.092  1.066     1.014   \n",
      "1   1994   0.998    1.009  1.008  1.027  1.047  1.078  1.106  1.155     1.144   \n",
      "2   1995   1.130    1.120  1.119  1.157  1.225  1.239  1.201  1.170     1.158   \n",
      "3   1996   1.137    1.136  1.183  1.275  1.324  1.300  1.272  1.251     1.247   \n",
      "4   1997   1.283    1.276  1.251  1.244  1.245  1.242  1.220  1.268     1.276   \n",
      "5   1998   1.132    1.096  1.064  1.077  1.105  1.103  1.094  1.065     1.049   \n",
      "6   1999   0.980    0.962  1.022  1.171  1.171  1.154  1.197  1.260     1.295   \n",
      "7   2000   1.329    1.415  1.556  1.506  1.526  1.666  1.591  1.506     1.588   \n",
      "8   2001   1.487    1.490  1.450  1.591  1.738  1.658  1.466  1.461     1.557   \n",
      "9   2002   1.148    1.155  1.289  1.439  1.434  1.424  1.438  1.438     1.441   \n",
      "10  2003   1.500    1.655  1.734  1.633  1.539  1.533  1.554  1.661     1.721   \n",
      "11  2004   1.614    1.690  1.778  1.839  2.023  2.013  1.954  1.920     1.912   \n",
      "12  2005   1.875    1.953  2.120  2.285  2.205  2.198  2.333  2.529     2.951   \n",
      "13  2006   2.360    2.326  2.468  2.787  2.953  2.930  3.025  2.999     2.606   \n",
      "14  2007   2.289    2.323  2.609  2.891  3.187  3.102  3.011  2.834     2.849   \n",
      "15  2008   3.095    3.078  3.293  3.507  3.815  4.105  4.114  3.833     3.756   \n",
      "16  2009   1.840    1.975  2.011  2.102  2.316  2.681  2.582  2.670     2.609   \n",
      "17  2010   2.769    2.699  2.824  2.900  2.890  2.785  2.782  2.783     2.757   \n",
      "18  2011   3.148    3.264  3.615  3.852  3.960  3.735  3.705  3.696     3.667   \n",
      "19  2012   3.440    3.640  3.907  3.958  3.791  3.596  3.498  3.780     3.910   \n",
      "20  2013   3.391    3.736  3.779  3.638  3.675  3.689  3.661  3.645     3.604   \n",
      "21  2014   3.392    3.434  3.606  3.735  3.750  3.766  3.688  3.565     3.484   \n",
      "22  2015   2.208    2.301  2.546  2.555  2.802  2.885  2.880  2.726     2.462   \n",
      "23  2016   2.057    1.872  2.071  2.216  2.371  2.467  2.345  2.284     2.327   \n",
      "24  2017   2.458    2.416  2.437  2.528  2.503  2.460  2.414  2.494     2.761   \n",
      "25  2018   2.671    2.705  2.709  2.873  2.987  2.970  2.928  2.914     2.915   \n",
      "26  2019   2.338    2.393  2.594  2.881  2.946  2.804  2.823  2.707     2.681   \n",
      "27  2020   2.636    2.533   None   None   None   None   None   None      None   \n",
      "\n",
      "   October November December  \n",
      "0     None     None     None  \n",
      "1    1.114    1.119    1.129  \n",
      "2    1.134    1.109    1.118  \n",
      "3    1.249    1.278    1.282  \n",
      "4    1.242    1.216    1.177  \n",
      "5    1.059    1.036    0.987  \n",
      "6    1.285    1.292    1.313  \n",
      "7    1.571    1.557    1.483  \n",
      "8    1.357    1.212    1.127  \n",
      "9    1.486    1.461    1.429  \n",
      "10   1.606    1.555    1.522  \n",
      "11   2.042    2.023    1.887  \n",
      "12   2.765    2.303    2.229  \n",
      "13   2.293    2.275    2.359  \n",
      "14   2.853    3.128    3.070  \n",
      "15   3.112    2.208    1.745  \n",
      "16   2.605    2.706    2.663  \n",
      "17   2.853    2.913    3.048  \n",
      "18   3.506    3.443    3.326  \n",
      "19   3.812    3.521    3.381  \n",
      "20   3.420    3.322    3.357  \n",
      "21   3.255    2.997    2.632  \n",
      "22   2.387    2.260    2.144  \n",
      "23   2.359    2.295    2.366  \n",
      "24   2.621    2.678    2.594  \n",
      "25   2.943    2.736    2.457  \n",
      "26   2.724    2.693    2.645  \n",
      "27    None     None     None  \n"
     ]
    }
   ],
   "source": [
    "table = soup.find('table', class_='FloatTitle')\n",
    "table_rows = table.find_all('tr')\n",
    "table_rows\n",
    "gas_price = []\n",
    "for tr in table_rows:\n",
    "    td = tr.find_all('td')\n",
    "    row = [tr.text.strip() for tr in td if tr.text.strip()]\n",
    "    if row:\n",
    "        gas_price.append(row)\n",
    "\n",
    "df = pd.DataFrame(gas_price, columns=[\"Year\", \"January\", \"February\", \"March\", \"April\", \"May\", \"June\", \"July\", \"August\", \"September\",\"October\",\"November\",\"December\"])\n",
    "print(df)"
   ]
  },
  {
   "cell_type": "code",
   "execution_count": 10,
   "metadata": {},
   "outputs": [],
   "source": [
    "df.to_csv('gas_prices.csv')"
   ]
  },
  {
   "cell_type": "code",
   "execution_count": null,
   "metadata": {},
   "outputs": [],
   "source": []
  }
 ],
 "metadata": {
  "kernelspec": {
   "display_name": "Python 3",
   "language": "python",
   "name": "python3"
  },
  "language_info": {
   "codemirror_mode": {
    "name": "ipython",
    "version": 3
   },
   "file_extension": ".py",
   "mimetype": "text/x-python",
   "name": "python",
   "nbconvert_exporter": "python",
   "pygments_lexer": "ipython3",
   "version": "3.7.3"
  }
 },
 "nbformat": 4,
 "nbformat_minor": 4
}
